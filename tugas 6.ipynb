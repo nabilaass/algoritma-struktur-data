{
 "cells": [
  {
   "cell_type": "code",
   "execution_count": 34,
   "metadata": {},
   "outputs": [
    {
     "name": "stdout",
     "output_type": "stream",
     "text": [
      "berapa nilai kamu?65\n",
      "kamu harus ikut remidi\n"
     ]
    }
   ],
   "source": [
    "#masukan nilai program. \n",
    "nilai=int(input(\"berapa nilai kamu?\"))\n",
    "if nilai<70:\n",
    "    print(\"kamu harus ikut remidi\")"
   ]
  },
  {
   "cell_type": "code",
   "execution_count": 32,
   "metadata": {},
   "outputs": [
    {
     "name": "stdout",
     "output_type": "stream",
     "text": [
      "jari-jari:21\n",
      "Luas lingkaran:332\n",
      "lingkaran ini besar\n"
     ]
    }
   ],
   "source": [
    "#program dari notasi algoritma\n",
    "r=int(input(\"jari-jari:\"))\n",
    "L=3.14*r*r\n",
    "\n",
    "L= int(input(\"Luas lingkaran:\"))\n",
    "\n",
    "if L>314:\n",
    "    print(\"lingkaran ini besar\")\n",
    "else:\n",
    "    print(\"lingkaran ini kecil\")"
   ]
  },
  {
   "cell_type": "code",
   "execution_count": 8,
   "metadata": {},
   "outputs": [
    {
     "name": "stdout",
     "output_type": "stream",
     "text": [
      "masukan nomor program 1\n",
      "masukan panjang15\n",
      "masukan lebar12\n",
      "masukan tinggi14\n",
      "volume balok adalah= 2520\n"
     ]
    }
   ],
   "source": [
    "#elif\n",
    "\n",
    "def V_balok():\n",
    "    p=int(input(\"masukan panjang\"))\n",
    "    l=int(input(\"masukan lebar\"))\n",
    "    t=int(input(\"masukan tinggi\"))\n",
    "    V_balok=p*l*t\n",
    "    print(\"volume balok adalah=\", V_balok)\n",
    "def V_kubus():\n",
    "    s = int(input(\"masukan s\"))\n",
    "    V_kubus = s*s*s\n",
    "    print(\"volume kubus adalah\",V_kubus)\n",
    "    \n",
    "program = int(input(\"masukan nomor program\"))\n",
    "\n",
    "if program==1:\n",
    "    V_balok()\n",
    "elif program==2:\n",
    "    V_kubus()\n",
    "else:\n",
    "    print(\"program tidak tersedia\")\n"
   ]
  },
  {
   "cell_type": "code",
   "execution_count": null,
   "metadata": {},
   "outputs": [],
   "source": []
  }
 ],
 "metadata": {
  "kernelspec": {
   "display_name": "Python 3",
   "language": "python",
   "name": "python3"
  },
  "language_info": {
   "codemirror_mode": {
    "name": "ipython",
    "version": 3
   },
   "file_extension": ".py",
   "mimetype": "text/x-python",
   "name": "python",
   "nbconvert_exporter": "python",
   "pygments_lexer": "ipython3",
   "version": "3.8.3"
  }
 },
 "nbformat": 4,
 "nbformat_minor": 4
}
