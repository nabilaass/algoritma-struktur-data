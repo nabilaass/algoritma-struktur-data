{
 "cells": [
  {
   "cell_type": "code",
   "execution_count": 8,
   "metadata": {},
   "outputs": [
    {
     "name": "stdout",
     "output_type": "stream",
     "text": [
      "hasil 10 + 9 = 19\n",
      "hasil 10 - 9 = 1\n"
     ]
    }
   ],
   "source": [
    "#OPERASI ALGORITMA\n",
    "\n",
    "a=10\n",
    "b=9\n",
    "#menggunakan operator penjumlahan\n",
    "c=a+b\n",
    "print(\"hasil\",a,\"+\",b,\"=\",c)\n",
    "#menggunakan operator pengurangan\n",
    "d=a-b\n",
    "print(\"hasil\",a,\"-\",b,\"=\",d)"
   ]
  },
  {
   "cell_type": "code",
   "execution_count": 5,
   "metadata": {},
   "outputs": [
    {
     "name": "stdout",
     "output_type": "stream",
     "text": [
      "10\n",
      "15\n"
     ]
    }
   ],
   "source": [
    "#OPERASI PENUGASAN\n",
    "\n",
    "a=10 #contoh operator penugasan untuk mengisi nilai\n",
    "print(a)\n",
    "\n",
    "a +=5 #jumlahkan nilai a dengan operator penugasan untuk menjumlahkan\n",
    "\n",
    "# setelah nilai a ditambah 5, tampilkan isinya\n",
    "print(a)"
   ]
  },
  {
   "cell_type": "code",
   "execution_count": 2,
   "metadata": {},
   "outputs": [
    {
     "name": "stdout",
     "output_type": "stream",
     "text": [
      "apakah a sama dengan b: False\n",
      "apakah a lebih besar dari b: True\n"
     ]
    }
   ],
   "source": [
    "#OPERASI PEMBANDING\n",
    "\n",
    "a=10\n",
    "b=5\n",
    "\n",
    "#apakah a sama dengan b?\n",
    "c=a==b\n",
    "print(\"apakah a sama dengan b:\",c)\n",
    "\n",
    "#apakah a lebih besar dari b?\n",
    "d=a>b\n",
    "print(\"apakah a lebih besar dari b:\",d)"
   ]
  },
  {
   "cell_type": "code",
   "execution_count": 18,
   "metadata": {},
   "outputs": [
    {
     "name": "stdout",
     "output_type": "stream",
     "text": [
      "False\n"
     ]
    }
   ],
   "source": [
    "#OPERASI LOGIKA\n",
    "a=True\n",
    "b=False\n",
    "#Logika AND\n",
    "c= a and b\n",
    "print(c)"
   ]
  },
  {
   "cell_type": "code",
   "execution_count": 19,
   "metadata": {},
   "outputs": [
    {
     "name": "stdout",
     "output_type": "stream",
     "text": [
      "4\n"
     ]
    }
   ],
   "source": [
    "#OPERASI BITWISE\n",
    "a=4\n",
    "b=5\n",
    "c=a&b\n",
    "print(c)\n",
    "#a=00111100\n",
    "#b=00001101\n",
    "#a&b=00001100"
   ]
  },
  {
   "cell_type": "code",
   "execution_count": 20,
   "metadata": {},
   "outputs": [
    {
     "name": "stdout",
     "output_type": "stream",
     "text": [
      "dewasa\n"
     ]
    }
   ],
   "source": [
    "#OPERASI TERNARY\n",
    "umur=17\n",
    "aku= \"bocah\" if umur<10 else \"dewasa\"\n",
    "print(aku)"
   ]
  },
  {
   "cell_type": "code",
   "execution_count": 39,
   "metadata": {},
   "outputs": [
    {
     "name": "stdout",
     "output_type": "stream",
     "text": [
      "masukan nama anda BILA JELEK\n",
      "nama anda adalah BILA JELEK\n"
     ]
    }
   ],
   "source": [
    "name=input(\"masukan nama anda \")\n",
    "print(\"nama anda adalah\",name)"
   ]
  },
  {
   "cell_type": "code",
   "execution_count": 41,
   "metadata": {},
   "outputs": [
    {
     "name": "stdout",
     "output_type": "stream",
     "text": [
      "masukan nilai alas 20\n",
      "masukan nilai tinggi 100\n",
      "Luas segitiga 1000.0\n"
     ]
    }
   ],
   "source": [
    "#mengambil data float/integer dari keyboard untuk variabel a dan t\n",
    "a=int(input(\"masukan nilai alas \")) #int bisa diganti float\n",
    "t=int(input(\"masukan nilai tinggi \")) #int bisa diganti float\n",
    "L=0.5*a*t\n",
    "print(\"Luas segitiga\",L)"
   ]
  }
 ],
 "metadata": {
  "kernelspec": {
   "display_name": "Python 3",
   "language": "python",
   "name": "python3"
  },
  "language_info": {
   "codemirror_mode": {
    "name": "ipython",
    "version": 3
   },
   "file_extension": ".py",
   "mimetype": "text/x-python",
   "name": "python",
   "nbconvert_exporter": "python",
   "pygments_lexer": "ipython3",
   "version": "3.8.3"
  }
 },
 "nbformat": 4,
 "nbformat_minor": 4
}
