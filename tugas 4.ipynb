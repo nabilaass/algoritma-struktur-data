{
 "cells": [
  {
   "cell_type": "code",
   "execution_count": 2,
   "metadata": {},
   "outputs": [
    {
     "name": "stdout",
     "output_type": "stream",
     "text": [
      "hasil 10 + 5 = 15\n",
      "hasil 10 - 5 = 5\n",
      "hasil 10 * 5 = 50\n",
      "hasil 10 / 5 = 2.0\n",
      "hasil 10 % 5 = 0\n",
      "hasil 10 ** 5 = 100000\n"
     ]
    }
   ],
   "source": [
    "#operator aritmatika\n",
    "\n",
    "a=10\n",
    "b=5\n",
    "#menggunakan operator penjumlahan\n",
    "c=a+b\n",
    "print(\"hasil\",a,\"+\",b,\"=\",c)\n",
    "#menggunakan operator pengurangan\n",
    "d=a-b\n",
    "print(\"hasil\",a,\"-\",b,\"=\",d)\n",
    "#menggunakan operator perkalian\n",
    "e=a*b\n",
    "print(\"hasil\",a,\"*\",b,\"=\",e)\n",
    "#menggunakan operator pembagian\n",
    "f=a/b\n",
    "print(\"hasil\",a,\"/\",b,\"=\",f)\n",
    "#menggunakan operator sisa bagi\n",
    "g=a%b\n",
    "print(\"hasil\",a,\"%\",b,\"=\",g)\n",
    "#menggunakan operator pemangkatan\n",
    "h=a**b\n",
    "print(\"hasil\",a,\"**\",b,\"=\",h)\n"
   ]
  },
  {
   "cell_type": "code",
   "execution_count": 13,
   "metadata": {},
   "outputs": [
    {
     "name": "stdout",
     "output_type": "stream",
     "text": [
      "a= 12\n",
      "hasil dari a+=3 adalah 15\n",
      "hasil dari a-=3 adalah 12\n",
      "hasil dari a*=3 adalah 36\n",
      "hasil dari a/=3 adalah 12.0\n",
      "hasil dari a%=3 adalah 0.0\n",
      "hasil dari a**=2 adalah 0.0\n"
     ]
    }
   ],
   "source": [
    "#OPERATOR PENUGASAN\n",
    "\n",
    "#pengisian\n",
    "a= 12\n",
    "print(\"a=\",a)\n",
    "\n",
    "#penjumlahan\n",
    "a+=3\n",
    "print(\"hasil dari a+=3 adalah\",a)\n",
    "\n",
    "#pengurangan\n",
    "a-=3\n",
    "print(\"hasil dari a-=3 adalah\",a)\n",
    "\n",
    "#perkalian\n",
    "a*=3\n",
    "print(\"hasil dari a*=3 adalah\",a)\n",
    "\n",
    "#pembagian\n",
    "a/= 3\n",
    "#setelah nilai a dibagi 3, tampilkan isinya\n",
    "print(\"hasil dari a/=3 adalah\",a)\n",
    "\n",
    "#sisa bagi\n",
    "a%=3\n",
    "print(\"hasil dari a%=3 adalah\",a)\n",
    "\n",
    "#pemangkatan\n",
    "a**=3\n",
    "print(\"hasil dari a**=3 adalah\",a)"
   ]
  },
  {
   "cell_type": "code",
   "execution_count": 16,
   "metadata": {},
   "outputs": [
    {
     "name": "stdout",
     "output_type": "stream",
     "text": [
      "apakah a lebih besar dari b? jawabannya= True\n",
      "apakah a lebih kecil dari b? jawabannya= False\n",
      "apakah a sama dengan b? jawabannya= False\n",
      "apakah a tidak sama dengan b? jawabannya= True\n",
      "apakah a lebih besar sama dengan b? jawabannya= True\n",
      "apakah a lebih kecil sama dengan b? jawabannya= False\n"
     ]
    }
   ],
   "source": [
    "#operator pembanding\n",
    "\n",
    "a=22\n",
    "b=6\n",
    "#apakah a lebih besar dari b?\n",
    "c=a>b\n",
    "print(\"apakah a lebih besar dari b? jawabannya=\",c)\n",
    "#apakah a lebih kecil dari b?\n",
    "d=a<b\n",
    "print(\"apakah a lebih kecil dari b? jawabannya=\",d)\n",
    "#apakah a sama dengan b?\n",
    "e=a==b\n",
    "print(\"apakah a sama dengan b? jawabannya=\",e)\n",
    "#apakah a tidak sama dengan b?\n",
    "f=a!=b\n",
    "print(\"apakah a tidak sama dengan b? jawabannya=\",f)\n",
    "#apakah a lebih besar sama dengan b?\n",
    "g=a>=b\n",
    "print(\"apakah a lebih besar sama dengan b? jawabannya=\",g)\n",
    "#apakah a lebih kecil sama dengan b?\n",
    "h=a<=b\n",
    "print(\"apakah a lebih kecil sama dengan b? jawabannya=\",h)"
   ]
  },
  {
   "cell_type": "code",
   "execution_count": 19,
   "metadata": {},
   "outputs": [
    {
     "name": "stdout",
     "output_type": "stream",
     "text": [
      "False\n",
      "True\n",
      "True\n"
     ]
    }
   ],
   "source": [
    "#operator logika\n",
    "\n",
    "a=True\n",
    "b=False\n",
    "#Logika AND\n",
    "c=a and b\n",
    "print(c)\n",
    "#logika OR\n",
    "c= a or b\n",
    "print(c)\n",
    "#negasi/kebalikan\n",
    "c= not b\n",
    "print(c)"
   ]
  },
  {
   "cell_type": "code",
   "execution_count": 7,
   "metadata": {},
   "outputs": [
    {
     "name": "stdout",
     "output_type": "stream",
     "text": [
      "nama bayi=NABILA\n",
      "berat bayi=2\n",
      "nama bayi adalah= NABILA berat dalam kg= 2 Kg,berat dalam ons= 20 ons, berat bayi dalam 1 bulan kedepan adalah= 50 ons\n"
     ]
    }
   ],
   "source": [
    "#mengambil input\n",
    "nama=input(\"nama bayi=\")\n",
    "berat= int(input(\"berat bayi=\"))\n",
    "ons=berat*10\n",
    "ons1= ons+30\n",
    "print(\"nama bayi adalah=\",nama,\"berat dalam kg=\",berat,\"Kg,berat dalam ons=\",ons,\"ons, berat bayi dalam 1 bulan kedepan adalah=\",ons1,\"ons\") "
   ]
  },
  {
   "cell_type": "code",
   "execution_count": null,
   "metadata": {},
   "outputs": [],
   "source": []
  },
  {
   "cell_type": "code",
   "execution_count": null,
   "metadata": {},
   "outputs": [],
   "source": []
  }
 ],
 "metadata": {
  "kernelspec": {
   "display_name": "Python 3",
   "language": "python",
   "name": "python3"
  }
 },
 "nbformat": 4,
 "nbformat_minor": 4
}
