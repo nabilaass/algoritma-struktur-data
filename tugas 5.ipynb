{
 "cells": [
  {
   "cell_type": "code",
   "execution_count": 3,
   "metadata": {},
   "outputs": [
    {
     "name": "stdout",
     "output_type": "stream",
     "text": [
      "I like programming\n",
      "because I  proud to make something new\n"
     ]
    }
   ],
   "source": [
    "#membuat 2 fungsi\n",
    "def fungsi1():\n",
    "    print(\"because I  proud to make something new\")\n",
    "def fungsi2():\n",
    "    print(\"I like programming\")\n",
    "fungsi2()\n",
    "fungsi1()"
   ]
  },
  {
   "cell_type": "code",
   "execution_count": 10,
   "metadata": {},
   "outputs": [
    {
     "name": "stdout",
     "output_type": "stream",
     "text": [
      "perkenalkan nama saya Nabila Asshafa Putri\n",
      "luas persegi panjang adalah 132\n"
     ]
    }
   ],
   "source": [
    "#membuat fungsi dan parameter\n",
    "def fungsi1(perkenalandiri):\n",
    "    print(perkenalandiri)\n",
    "fungsi1(\"perkenalkan nama saya Nabila Asshafa Putri\")\n",
    "\n",
    "#membuat fungsi dna parameter\n",
    "def luas_persegipanjang(panjang,lebar):\n",
    "    luas=panjang*lebar\n",
    "    print(\"luas persegi panjang adalah\", luas)\n",
    "luas_persegipanjang(22,6)\n"
   ]
  },
  {
   "cell_type": "code",
   "execution_count": 15,
   "metadata": {},
   "outputs": [
    {
     "name": "stdout",
     "output_type": "stream",
     "text": [
      "luas persegi panjang 18\n",
      "volume balok 162\n"
     ]
    }
   ],
   "source": [
    "#membuat fungsi return\n",
    "# rumus Luas=p*l\n",
    "def luas_persegipanjang(panjang,lebar):\n",
    "    luas= panjang*lebar\n",
    "    return luas\n",
    "def volume_balok(panjang,lebar,tinggi):\n",
    "    volume=panjang*lebar*tinggi\n",
    "    return volume\n",
    "\n",
    "print(\"luas persegi panjang\",luas_persegipanjang(3,6))\n",
    "print(\"volume balok\",volume_balok(3,6,9))\n"
   ]
  },
  {
   "cell_type": "code",
   "execution_count": 23,
   "metadata": {},
   "outputs": [
    {
     "name": "stdout",
     "output_type": "stream",
     "text": [
      "masukkan angka pertama 8\n",
      "masukan angka kedua 7\n",
      "Angka pertama sama dengan angka kedua adalah False\n",
      "Angka pertama lebih besar daripada angka kedua True\n"
     ]
    }
   ],
   "source": [
    "#fungsi,input,operator logika\n",
    "angka_1=float(input(\"masukkan angka pertama\"))\n",
    "angka_2=float(input(\"masukan angka kedua\"))\n",
    "\n",
    "def fungsi_operator1():\n",
    "    operator1=angka_1==angka_2\n",
    "    print(\"Angka pertama sama dengan angka kedua adalah\",operator1)\n",
    "def fungsi_operator2():\n",
    "    operator2=angka_1>angka_2\n",
    "    print(\"Angka pertama lebih besar daripada angka kedua\",operator2)\n",
    "fungsi_operator1()\n",
    "fungsi_operator2()"
   ]
  }
 ],
 "metadata": {
  "kernelspec": {
   "display_name": "Python 3",
   "language": "python",
   "name": "python3"
  },
  "language_info": {
   "codemirror_mode": {
    "name": "ipython",
    "version": 3
   },
   "file_extension": ".py",
   "mimetype": "text/x-python",
   "name": "python",
   "nbconvert_exporter": "python",
   "pygments_lexer": "ipython3",
   "version": "3.8.3"
  }
 },
 "nbformat": 4,
 "nbformat_minor": 4
}
