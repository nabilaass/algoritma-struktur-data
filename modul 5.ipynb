{
 "cells": [
  {
   "cell_type": "code",
   "execution_count": 4,
   "metadata": {},
   "outputs": [
    {
     "name": "stdout",
     "output_type": "stream",
     "text": [
      "Hi, my name is Nabila Asshafa Putri\n",
      "Hi, my name is Nabila Asshafa Putri\n",
      "Hi, my name is Nabila Asshafa Putri\n"
     ]
    }
   ],
   "source": [
    "#membuat fungsi\n",
    "def biodata():\n",
    "    print(\"Hi, my name is Nabila Asshafa Putri\")\n",
    "\n",
    "##pemanggilan fungsi\n",
    "biodata()\n",
    "biodata()\n",
    "biodata()"
   ]
  },
  {
   "cell_type": "code",
   "execution_count": 6,
   "metadata": {},
   "outputs": [
    {
     "name": "stdout",
     "output_type": "stream",
     "text": [
      "happy birthday and many happy returns\n"
     ]
    }
   ],
   "source": [
    "def ucapan(ulangtahun):\n",
    "    print(ulangtahun)\n",
    "    \n",
    "ucapan(\"happy birthday and many happy returns\")\n"
   ]
  },
  {
   "cell_type": "code",
   "execution_count": 8,
   "metadata": {},
   "outputs": [
    {
     "name": "stdout",
     "output_type": "stream",
     "text": [
      "luas segitiga adalah 10.0\n"
     ]
    }
   ],
   "source": [
    "#membuat fungsi dengan 2 paramenter\n",
    "def luas_segitiga(alas,tinggi):\n",
    "    luas=(alas*tinggi)/2\n",
    "    print(\"luas segitiga adalah\",luas);\n",
    "\n",
    "#pemanggilan fungsi\n",
    "luas_segitiga(5,4)"
   ]
  },
  {
   "cell_type": "code",
   "execution_count": 9,
   "metadata": {},
   "outputs": [
    {
     "name": "stdout",
     "output_type": "stream",
     "text": [
      "luas persegi 36\n"
     ]
    }
   ],
   "source": [
    "def luas_persegi(sisi):\n",
    "    luas= sisi*sisi\n",
    "    return luas\n",
    "\n",
    "#pemanggilan fungsi\n",
    "print(\"luas persegi\",luas_persegi(6))"
   ]
  },
  {
   "cell_type": "code",
   "execution_count": 2,
   "metadata": {},
   "outputs": [
    {
     "name": "stdout",
     "output_type": "stream",
     "text": [
      "Luas persegi 64\n",
      "Volume kubus 125\n"
     ]
    }
   ],
   "source": [
    "#rumus:sisi x sisi\n",
    "def luas_persegi(sisi):\n",
    "    luas= sisi*sisi\n",
    "    return luas\n",
    "\n",
    "#rumus:sisi x sisi x sisi\n",
    "def volume_kubus(sisi):\n",
    "    volume= luas_persegi(sisi)*sisi\n",
    "    return volume\n",
    "print(\"Luas persegi\",luas_persegi(8))\n",
    "print(\"Volume kubus\", volume_kubus(5))"
   ]
  },
  {
   "cell_type": "code",
   "execution_count": 3,
   "metadata": {},
   "outputs": [
    {
     "name": "stdout",
     "output_type": "stream",
     "text": [
      "nama: phyton\n",
      "versi: 2.0.0\n",
      "nama: program\n",
      "versi: aplikasi biodata\n"
     ]
    }
   ],
   "source": [
    "#membuat variabel global\n",
    "nama=\"phyton\"\n",
    "versi=\"2.0.0\"\n",
    "\n",
    "def tentang():\n",
    "    #ini variabel lokal\n",
    "    nama=\"program\"\n",
    "    versi=\"aplikasi biodata\"\n",
    "    #mengakses variabel global\n",
    "    print(\"nama:\", nama)\n",
    "    print(\"versi:\",versi)\n",
    "    \n",
    "#mengakses variabel global\n",
    "print(\"nama:\", nama)\n",
    "print(\"versi:\",versi)\n",
    "\n",
    "#memanggil fungsi help()\n",
    "tentang()"
   ]
  }
 ],
 "metadata": {
  "kernelspec": {
   "display_name": "Python 3",
   "language": "python",
   "name": "python3"
  },
  "language_info": {
   "codemirror_mode": {
    "name": "ipython",
    "version": 3
   },
   "file_extension": ".py",
   "mimetype": "text/x-python",
   "name": "python",
   "nbconvert_exporter": "python",
   "pygments_lexer": "ipython3",
   "version": "3.8.3"
  }
 },
 "nbformat": 4,
 "nbformat_minor": 4
}
