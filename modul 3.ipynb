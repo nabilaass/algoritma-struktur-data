{
 "cells": [
  {
   "cell_type": "code",
   "execution_count": 1,
   "metadata": {},
   "outputs": [
    {
     "name": "stdout",
     "output_type": "stream",
     "text": [
      "30\n",
      "(3, 14)\n",
      "50\n",
      "ini variabel milik Nabila Asshafa Putri adalah 50\n"
     ]
    }
   ],
   "source": [
    "var=30\n",
    "phi=3,14\n",
    "var2=50\n",
    "variabel_saya=\"ini variabel milik Nabila Asshafa Putri\"\n",
    "print(var)\n",
    "print(phi)\n",
    "print(var2)\n",
    "print(variabel_saya,\"adalah\", var2)\n"
   ]
  },
  {
   "cell_type": "code",
   "execution_count": 2,
   "metadata": {},
   "outputs": [
    {
     "name": "stdout",
     "output_type": "stream",
     "text": [
      "30\n",
      "(3, 14)\n",
      "50\n",
      "ini variabel milik Nabila Asshafa Putri adalah 50\n"
     ]
    },
    {
     "ename": "NameError",
     "evalue": "name 'var' is not defined",
     "output_type": "error",
     "traceback": [
      "\u001b[1;31m---------------------------------------------------------------------------\u001b[0m",
      "\u001b[1;31mNameError\u001b[0m                                 Traceback (most recent call last)",
      "\u001b[1;32m<ipython-input-2-36e5534faf9b>\u001b[0m in \u001b[0;36m<module>\u001b[1;34m\u001b[0m\n\u001b[0;32m      8\u001b[0m \u001b[0mprint\u001b[0m\u001b[1;33m(\u001b[0m\u001b[0mvariabel_saya\u001b[0m\u001b[1;33m,\u001b[0m\u001b[1;34m\"adalah\"\u001b[0m\u001b[1;33m,\u001b[0m \u001b[0mvar2\u001b[0m\u001b[1;33m)\u001b[0m\u001b[1;33m\u001b[0m\u001b[1;33m\u001b[0m\u001b[0m\n\u001b[0;32m      9\u001b[0m \u001b[1;32mdel\u001b[0m\u001b[1;33m(\u001b[0m\u001b[0mvar\u001b[0m\u001b[1;33m)\u001b[0m\u001b[1;33m\u001b[0m\u001b[1;33m\u001b[0m\u001b[0m\n\u001b[1;32m---> 10\u001b[1;33m \u001b[0mprint\u001b[0m\u001b[1;33m(\u001b[0m\u001b[0mvar\u001b[0m\u001b[1;33m)\u001b[0m\u001b[1;33m\u001b[0m\u001b[1;33m\u001b[0m\u001b[0m\n\u001b[0m",
      "\u001b[1;31mNameError\u001b[0m: name 'var' is not defined"
     ]
    }
   ],
   "source": [
    "var=30\n",
    "phi=3,14\n",
    "var2=50\n",
    "variabel_saya=\"ini variabel milik Nabila Asshafa Putri\"\n",
    "print(var)\n",
    "print(phi)\n",
    "print(var2)\n",
    "print(variabel_saya,\"adalah\", var2)\n",
    "del(var)\n",
    "print(var)"
   ]
  },
  {
   "cell_type": "code",
   "execution_count": 7,
   "metadata": {},
   "outputs": [
    {
     "name": "stdout",
     "output_type": "stream",
     "text": [
      "Arden\n",
      "Jalan suka karya, No 32. Rt kode, Kelurahan Mawar, Jakarta\n",
      "programming\n"
     ]
    }
   ],
   "source": [
    "nama=\"Arden\"\n",
    "alamat=\"Jalan suka karya, No 32. Rt kode, Kelurahan Mawar, Jakarta\"\n",
    "hobi= \"programming\"\n",
    "print(nama)\n",
    "print(alamat)\n",
    "print(hobi)"
   ]
  },
  {
   "cell_type": "code",
   "execution_count": 8,
   "metadata": {},
   "outputs": [
    {
     "name": "stdout",
     "output_type": "stream",
     "text": [
      "\n",
      "saya suka programming\n",
      "saya suka programming\n",
      "saya suka programming\n",
      "saya suka programming\n",
      "saya suka programming\n",
      "\n"
     ]
    }
   ],
   "source": [
    "var=\"\"\"\n",
    "saya suka programming\n",
    "saya suka programming\n",
    "saya suka programming\n",
    "saya suka programming\n",
    "saya suka programming\n",
    "\"\"\"\n",
    "print(var)"
   ]
  }
 ],
 "metadata": {
  "kernelspec": {
   "display_name": "Python 3",
   "language": "python",
   "name": "python3"
  },
  "language_info": {
   "codemirror_mode": {
    "name": "ipython",
    "version": 3
   },
   "file_extension": ".py",
   "mimetype": "text/x-python",
   "name": "python",
   "nbconvert_exporter": "python",
   "pygments_lexer": "ipython3",
   "version": "3.8.3"
  }
 },
 "nbformat": 4,
 "nbformat_minor": 4
}
